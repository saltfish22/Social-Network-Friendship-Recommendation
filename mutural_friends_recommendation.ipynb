{
  "nbformat": 4,
  "nbformat_minor": 0,
  "metadata": {
    "colab": {
      "provenance": []
    },
    "kernelspec": {
      "name": "python3",
      "display_name": "Python 3"
    },
    "language_info": {
      "name": "python"
    }
  },
  "cells": [
    {
      "cell_type": "markdown",
      "source": [
        "Firstly, I parse the input data and change them into integer format.\n",
        "\n",
        "Secondly, all pairs of direct friends will be generated. It will be used to removing all the direct friends when we form the recommendation.\n",
        "\n",
        "Thridly, mutual friend pairs will be generated in each line. for example, for user 1, all its friends are mutual friends with each other. so the mutual friends pair will be generated bidirectional. Then, we count the number of mutual friend pairs.\n",
        "\n",
        "Fourthly, we remove the direct friends from the mutual friends pairs.\n",
        "\n",
        "Then, we sort by mutual friend count and by friend ID to generate the recommendations.\n"
      ],
      "metadata": {
        "id": "Ex-MPcQoS6b7"
      }
    },
    {
      "cell_type": "code",
      "source": [
        "from pyspark import SparkContext\n",
        "from itertools import combinations\n",
        "from pyspark.sql import SparkSession\n",
        "from pyspark import SparkConf\n",
        "\n",
        "conf=SparkConf().set(\"spark.executor.memory\", \"8g\")\n",
        "\n",
        "# Stop any existing SparkContext\n",
        "if 'sc' in globals():\n",
        "    sc.stop()\n",
        "\n",
        "# Initialize a new SparkContext\n",
        "sc = SparkContext(\"local\", \"MutualFriendsRecommendation\")\n",
        "\n",
        "# Load the data\n",
        "data = sc.textFile(\"/content/soc-LiveJournal1Adj.txt\")\n",
        "\n",
        "\n",
        "\n",
        "\n",
        "# Step 1: Parse the data into (user, friends) pairs\n",
        "def parse_line(line):\n",
        "    parts = line.split(\"\\t\")  # Split by tab\n",
        "    # check if line format is correct before converting to int\n",
        "    if len(parts) == 2 and parts[0] and parts[1]:\n",
        "        try:\n",
        "            user = int(parts[0])  # Convert user ID to integer\n",
        "            friends = list(map(int, parts[1].split(\",\")))  # Convert friend IDs to integers\n",
        "            return (user, friends)\n",
        "        except ValueError:\n",
        "            # If any conversion fails, skip the line and return None\n",
        "            return None\n",
        "    else:\n",
        "        # Handle case where line is empty or has wrong format by returning None\n",
        "        return None\n",
        "# Apply the function using map and filter out None values\n",
        "user_friends = data.map(parse_line).filter(lambda x: x is not None)\n",
        "\n",
        "\n",
        "# check: Print sample of parsed data\n",
        "print(user_friends.take(5))"
      ],
      "metadata": {
        "id": "YlLAfDBRJCks",
        "colab": {
          "base_uri": "https://localhost:8080/"
        },
        "outputId": "450dcf1f-f1af-4576-960e-bf29bcb25c71"
      },
      "execution_count": 1,
      "outputs": [
        {
          "output_type": "stream",
          "name": "stdout",
          "text": [
            "[(0, [1, 2, 3, 4, 5, 6, 7, 8, 9, 10, 11, 12, 13, 14, 15, 16, 17, 18, 19, 20, 21, 22, 23, 24, 25, 26, 27, 28, 29, 30, 31, 32, 33, 34, 35, 36, 37, 38, 39, 40, 41, 42, 43, 44, 45, 46, 47, 48, 49, 50, 51, 52, 53, 54, 55, 56, 57, 58, 59, 60, 61, 62, 63, 64, 65, 66, 67, 68, 69, 70, 71, 72, 73, 74, 75, 76, 77, 78, 79, 80, 81, 82, 83, 84, 85, 86, 87, 88, 89, 90, 91, 92, 93, 94]), (1, [0, 5, 20, 135, 2409, 8715, 8932, 10623, 12347, 12846, 13840, 13845, 14005, 20075, 21556, 22939, 23520, 28193, 29724, 29791, 29826, 30691, 31232, 31435, 32317, 32489, 34394, 35589, 35605, 35606, 35613, 35633, 35648, 35678, 38737, 43447, 44846, 44887, 49226, 49985, 623, 629, 4999, 6156, 13912, 14248, 15190, 17636, 19217, 20074, 27536, 29481, 29726, 29767, 30257, 33060, 34250, 34280, 34392, 34406, 34418, 34420, 34439, 34450, 34651, 45054, 49592]), (2, [0, 117, 135, 1220, 2755, 12453, 24539, 24714, 41456, 45046, 49927, 6893, 13795, 16659, 32828, 41878]), (3, [0, 12, 41, 55, 1532, 12636, 13185, 27552, 38737]), (4, [0, 8, 14, 15, 18, 27, 72, 80, 15326, 19068, 19079, 24596, 42697, 46126, 74, 77, 33269, 38792, 38822])]\n"
          ]
        }
      ]
    },
    {
      "cell_type": "code",
      "source": [
        "# Step 2: Generate all (user, friend) pairs for direct friends\n",
        "def direct_pairs(user, friends):\n",
        "    direct_friends = []\n",
        "    for friend in friends:\n",
        "        direct_friends.append((user, friend))  # (user, direct friend)\n",
        "        direct_friends.append((friend, user))\n",
        "    return direct_friends\n",
        "\n",
        "friend_pairs = user_friends.flatMap(lambda x: direct_pairs(x[0], x[1]))\n",
        "\n",
        "# Debugging: Print sample of (user, friend) pairs\n",
        "print(\"Step 2: (user, friend) direct friends pairs\")\n",
        "print(friend_pairs.take(5))\n"
      ],
      "metadata": {
        "colab": {
          "base_uri": "https://localhost:8080/"
        },
        "id": "5hAeNtpDSaZd",
        "outputId": "763eda10-50eb-470f-cfda-011fb459b21e"
      },
      "execution_count": 2,
      "outputs": [
        {
          "output_type": "stream",
          "name": "stdout",
          "text": [
            "Step 2: (user, friend) direct friends pairs\n",
            "[(0, 1), (1, 0), (0, 2), (2, 0), (0, 3)]\n"
          ]
        }
      ]
    },
    {
      "cell_type": "code",
      "source": [
        "# Step 3: Generate mutual friends pairs\n",
        "def generate_mutual_friends(user, friends):\n",
        "    return [((friends[i], friends[j]), user)\n",
        "            for i in range(len(friends))\n",
        "            for j in range(i + 1, len(friends))] + \\\n",
        "           [((friends[j], friends[i]), user)\n",
        "            for i in range(len(friends))\n",
        "            for j in range(i + 1, len(friends))]\n",
        "\n",
        "mutual_friends = user_friends.flatMap(lambda x: generate_mutual_friends(x[0], x[1]))\n",
        "\n",
        "# Check: mutual friends pairs sample\n",
        "print(mutual_friends.take(5))\n",
        "\n",
        "# Count mutual friends pairs\n",
        "mutual_friend_counts = mutual_friends.map(lambda x: (x[0], 1)).reduceByKey(lambda x, y: x + y)"
      ],
      "metadata": {
        "colab": {
          "base_uri": "https://localhost:8080/"
        },
        "id": "HnT9VloOSLPN",
        "outputId": "7a5cf503-10ed-4971-c17b-f0f1f3ae6784"
      },
      "execution_count": 3,
      "outputs": [
        {
          "output_type": "stream",
          "name": "stdout",
          "text": [
            "[((1, 2), 0), ((1, 3), 0), ((1, 4), 0), ((1, 5), 0), ((1, 6), 0)]\n"
          ]
        }
      ]
    },
    {
      "cell_type": "code",
      "source": [
        "# Step 4: remove direct friends\n",
        "\n",
        "direct_friends = friend_pairs.map(lambda x: (x, 0))\n",
        "filtered_recommendations = mutual_friend_counts.subtractByKey(direct_friends)\n",
        "\n",
        "\n",
        "# check: Print sample of user pairs\n",
        "# print(filtered_recommendations.take(5))\n"
      ],
      "metadata": {
        "id": "6u56b1vGSgIo"
      },
      "execution_count": 4,
      "outputs": []
    },
    {
      "cell_type": "code",
      "source": [
        "# Step 5: transform the pair into a (user, (friend, mutual_friend_count)) structure\n",
        "\n",
        "formated_recommendations = filtered_recommendations.map(lambda x: (x[0][0], (x[0][1], x[1])))\n",
        "\n",
        "# Debugging: Print sample of mutual friends\n",
        "# print(\"Step 5: Mutual Friends Sample\")\n",
        "#print(formated_recommendations.take(5))\n"
      ],
      "metadata": {
        "id": "FWbzwpZlSivy"
      },
      "execution_count": 5,
      "outputs": []
    },
    {
      "cell_type": "code",
      "source": [
        "# Step 6: sort and extract top 10 recommendations\n",
        "def sort_and_extract_top_10(recs):\n",
        "    # Sort by mutual friend count (descending) and then by friend ID (ascending)\n",
        "    sorted_recs = sorted(recs, key=lambda x: (-x[1], x[0]))\n",
        "    return sorted_recs[:10]  # Return the top 10 recommendations\n",
        "\n",
        "# Apply the function using mapValues\n",
        "sorted_recommendations = formated_recommendations.groupByKey() \\\n",
        "    .mapValues(sort_and_extract_top_10)"
      ],
      "metadata": {
        "id": "J0Sjurk3SjWn"
      },
      "execution_count": 6,
      "outputs": []
    },
    {
      "cell_type": "code",
      "source": [
        "# Step 7: Filter recommendations for specific user IDs\n",
        "target_users = [1376, 1377, 1210, 9018, 9033, 9040, 9999, 9910, 9902, 9993,11]\n",
        "recommendations_for_check = sorted_recommendations.filter(lambda x: x[0] in target_users).collect()\n"
      ],
      "metadata": {
        "id": "dskw90JLSjsK"
      },
      "execution_count": 7,
      "outputs": []
    },
    {
      "cell_type": "code",
      "source": [
        "# Step 8: Collect and print the results\n",
        "for user, recs in recommendations_for_check:\n",
        "    friend_list = []\n",
        "    for friend, _ in recs:\n",
        "        friend_list.append(str(friend))\n",
        "    print(f\"User {user}: {', '.join(friend_list)}\")\n",
        "\n",
        "# Stop the SparkContext\n",
        "sc.stop()"
      ],
      "metadata": {
        "colab": {
          "base_uri": "https://localhost:8080/"
        },
        "id": "RrH4rYAaeHSp",
        "outputId": "4969fa8b-7c33-409b-fce9-1d0e5327c455"
      },
      "execution_count": 8,
      "outputs": [
        {
          "output_type": "stream",
          "name": "stdout",
          "text": [
            "User 1210: 1158, 1204, 1233, 1169, 1223, 1159, 1167, 1175, 1182, 1183\n",
            "User 1376: 1382, 6487, 1356, 1366, 2409, 4498, 5307, 8737, 12700, 16486\n",
            "User 9910: 351, 622, 2554, 7651, 9920, 22338, 30169, 30403, 45111, 47577\n",
            "User 9018: 9016, 9017, 317, 9023\n",
            "User 9902: 9906, 18845, 1797, 9891, 9894, 18626, 24136, 236, 319, 351\n",
            "User 9040: 9033, 9039, 9025, 9027, 9031, 9032, 9034, 9036, 503, 9029\n",
            "User 9033: 9039, 9040, 9025, 9026, 9027, 9031, 9032, 9034, 9036, 503\n",
            "User 9993: 9991, 13134, 13478, 13877, 34299, 34485, 34642, 37941\n",
            "User 1377: 1349, 1382, 1387, 1390, 1405, 1410, 1428, 33772, 1352, 1354\n",
            "User 9999: 36764, 44132, 10058, 44088, 36765, 36909, 10055, 44068, 44076, 10000\n",
            "User 11: 27552, 7785, 27573, 27574, 27589, 27590, 27600, 27617, 27620, 27667\n"
          ]
        }
      ]
    },
    {
      "cell_type": "code",
      "source": [],
      "metadata": {
        "id": "g6Kv9Ms4VK0g"
      },
      "execution_count": null,
      "outputs": []
    }
  ]
}